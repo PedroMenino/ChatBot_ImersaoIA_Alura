{
  "nbformat": 4,
  "nbformat_minor": 0,
  "metadata": {
    "colab": {
      "provenance": [],
      "authorship_tag": "ABX9TyM4EXdGJAdI4x5j84HJdg4g",
      "include_colab_link": true
    },
    "kernelspec": {
      "name": "python3",
      "display_name": "Python 3"
    },
    "language_info": {
      "name": "python"
    }
  },
  "cells": [
    {
      "cell_type": "markdown",
      "metadata": {
        "id": "view-in-github",
        "colab_type": "text"
      },
      "source": [
        "<a href=\"https://colab.research.google.com/github/PedroMenino/ChatBot_ImersaoIA_Alura/blob/main/ChatBot_Imers%C3%A3o_alura.ipynb\" target=\"_parent\"><img src=\"https://colab.research.google.com/assets/colab-badge.svg\" alt=\"Open In Colab\"/></a>"
      ]
    },
    {
      "cell_type": "code",
      "execution_count": 8,
      "metadata": {
        "id": "FqWqc-IJ-5l8"
      },
      "outputs": [],
      "source": [
        "!pip install -q -U google-generativeai"
      ]
    },
    {
      "cell_type": "code",
      "source": [
        "# Import the Python SDK\n",
        "import google.generativeai as genai\n",
        "from google.colab import userdata\n",
        "api_key = userdata.get('API_KEY')\n",
        "genai.configure(api_key=api_key)"
      ],
      "metadata": {
        "id": "UtDmsMB__Fmd"
      },
      "execution_count": 23,
      "outputs": []
    },
    {
      "cell_type": "markdown",
      "source": [
        "Listar modelos disponiveis"
      ],
      "metadata": {
        "id": "GCdYepXn_Que"
      }
    },
    {
      "cell_type": "code",
      "source": [
        "for modelos in genai.list_models():\n",
        "  if'generateContent' in modelos.supported_generation_methods:\n",
        "    print(modelos.name)"
      ],
      "metadata": {
        "colab": {
          "base_uri": "https://localhost:8080/",
          "height": 225
        },
        "id": "HnQFTkfM_NGm",
        "outputId": "e48929bb-9dec-4fb5-88a5-bb92320ef7e2"
      },
      "execution_count": 10,
      "outputs": [
        {
          "output_type": "stream",
          "name": "stdout",
          "text": [
            "models/gemini-1.0-pro\n",
            "models/gemini-1.0-pro-001\n",
            "models/gemini-1.0-pro-latest\n",
            "models/gemini-1.0-pro-vision-latest\n",
            "models/gemini-1.5-flash\n",
            "models/gemini-1.5-flash-001\n",
            "models/gemini-1.5-flash-latest\n",
            "models/gemini-1.5-pro\n",
            "models/gemini-1.5-pro-001\n",
            "models/gemini-1.5-pro-latest\n",
            "models/gemini-pro\n",
            "models/gemini-pro-vision\n"
          ]
        }
      ]
    },
    {
      "cell_type": "markdown",
      "source": [
        "Configuração de filtros\n",
        "  "
      ],
      "metadata": {
        "id": "71AOaausCUjR"
      }
    },
    {
      "cell_type": "code",
      "source": [
        "configuracao = {\n",
        "    \"candidate_count\": 1,\n",
        "    \"temperature\": 0.5,\n",
        "}"
      ],
      "metadata": {
        "id": "w4Hy1CCMA1Pp"
      },
      "execution_count": 11,
      "outputs": []
    },
    {
      "cell_type": "markdown",
      "source": [
        "Configuração de seguraça, palavras de odio, conteudo sexual...."
      ],
      "metadata": {
        "id": "6GE5h0xvCZCi"
      }
    },
    {
      "cell_type": "code",
      "source": [
        "configuracao_segurança = {\n",
        "    \"HARASSMENT\": \"BLOCK_NONE\",\n",
        "    \"HATE\": \"BLOCK_NONE\",\n",
        "    \"SEXUAL\": \"BLOCK_NONE\",\n",
        "    \"DANGEROUS\": \"BLOCK_NONE\",\n",
        "}"
      ],
      "metadata": {
        "id": "YxM0GEyIBZuc"
      },
      "execution_count": 16,
      "outputs": []
    },
    {
      "cell_type": "markdown",
      "source": [
        "Inicializando o modelo"
      ],
      "metadata": {
        "id": "Lfw3a6CJClAw"
      }
    },
    {
      "cell_type": "code",
      "source": [
        "model = genai.GenerativeModel(model_name=\"gemini-1.0-pro\",\n",
        "                              generation_config=configuracao,\n",
        "                              safety_settings=configuracao_segurança)\n"
      ],
      "metadata": {
        "id": "GJs8pjLqCjCQ"
      },
      "execution_count": 17,
      "outputs": []
    },
    {
      "cell_type": "code",
      "source": [
        "response = model.generate_content(\"Imersao IA da alura, conhecendo um pouco de phyton\")\n",
        "print(response.text)"
      ],
      "metadata": {
        "colab": {
          "base_uri": "https://localhost:8080/",
          "height": 627
        },
        "id": "SGz0f_IlF2nv",
        "outputId": "4d816949-b623-45ed-ac8c-8d6509224314"
      },
      "execution_count": 18,
      "outputs": [
        {
          "output_type": "stream",
          "name": "stdout",
          "text": [
            "**Introdução à Imersão em IA da Alura**\n",
            "\n",
            "A Imersão em IA da Alura é um programa abrangente projetado para fornecer aos alunos uma base sólida em Inteligência Artificial (IA). O programa cobre uma ampla gama de tópicos, incluindo:\n",
            "\n",
            "* Aprendizado de Máquina\n",
            "* Aprendizado Profundo\n",
            "* Visão Computacional\n",
            "* Processamento de Linguagem Natural\n",
            "\n",
            "**Introdução ao Python**\n",
            "\n",
            "Python é uma linguagem de programação versátil e fácil de aprender, amplamente usada em IA. A Imersão em IA da Alura inclui uma introdução ao Python, cobrindo os seguintes conceitos:\n",
            "\n",
            "* Tipos de dados e variáveis\n",
            "* Estruturas de controle\n",
            "* Funções e módulos\n",
            "* Manipulação de arquivos\n",
            "* Bibliotecas de IA (como NumPy, Pandas e Scikit-learn)\n",
            "\n",
            "**Aplicando Python em IA**\n",
            "\n",
            "Depois de entender os fundamentos do Python, os alunos podem começar a aplicá-lo em projetos de IA. A Imersão em IA da Alura fornece exemplos práticos e exercícios que permitem que os alunos:\n",
            "\n",
            "* Treinem modelos de aprendizado de máquina\n",
            "* Classifiquem imagens usando redes neurais convolucionais\n",
            "* Analisarem textos usando processamento de linguagem natural\n",
            "\n",
            "**Benefícios da Imersão em IA da Alura**\n",
            "\n",
            "* **Base sólida em IA:** Os alunos obtêm uma compreensão abrangente dos conceitos e técnicas fundamentais de IA.\n",
            "* **Habilidades práticas em Python:** Os alunos desenvolvem proficiência em Python, uma linguagem essencial para IA.\n",
            "* **Projetos práticos:** Os alunos aplicam seus conhecimentos por meio de projetos práticos, ganhando experiência prática.\n",
            "* **Mentoria e suporte:** Os alunos têm acesso a mentores e uma comunidade de suporte para orientação e assistência.\n",
            "* **Certificado de conclusão:** Após a conclusão bem-sucedida do programa, os alunos recebem um certificado que atesta suas habilidades em IA.\n"
          ]
        }
      ]
    },
    {
      "cell_type": "code",
      "source": [
        "chat = model.start_chat(history=[])\n",
        "prompt = input(\"Digite sua pergunta: \")\n",
        "\n",
        "while prompt != \"fim\":\n",
        "  response = chat.send_message(prompt)\n",
        "  print(\"Resposta: \", response.text, \"\\n\")\n",
        "  prompt = input(\"Digite sua pergunta: \")"
      ],
      "metadata": {
        "colab": {
          "base_uri": "https://localhost:8080/",
          "height": 748
        },
        "id": "IpKQXYizGb5f",
        "outputId": "36b79127-186b-4514-99ed-9256ebcdb1ae"
      },
      "execution_count": 21,
      "outputs": [
        {
          "name": "stdout",
          "output_type": "stream",
          "text": [
            "Digite sua pergunta: Qual é o maior time do Brasil?\n",
            "Resposta:  Flamengo \n",
            "\n",
            "Digite sua pergunta: Quais são os seus titulos ?\n",
            "Resposta:  **Títulos Nacionais**\n",
            "\n",
            "* Campeonato Brasileiro Série A: 8 (1980, 1982, 1983, 1992, 2009, 2019, 2020, 2022)\n",
            "* Copa do Brasil: 4 (1990, 2006, 2013, 2022)\n",
            "* Supercopa do Brasil: 2 (2020, 2021)\n",
            "* Copa dos Campeões: 1 (2001)\n",
            "* Torneio Rio-São Paulo: 1 (1961)\n",
            "* Taça Brasil: 1 (1961)\n",
            "* Copa União: 1 (1987)\n",
            "\n",
            "**Títulos Internacionais**\n",
            "\n",
            "* Copa Libertadores da América: 3 (1981, 2019, 2022)\n",
            "* Copa Sul-Americana: 1 (2022)\n",
            "* Recopa Sul-Americana: 1 (2020)\n",
            "* Mundial de Clubes da FIFA: 1 (1981)\n",
            "\n",
            "**Títulos Estaduais**\n",
            "\n",
            "* Campeonato Carioca: 37 (1914, 1915, 1920, 1921, 1925, 1927, 1939, 1942, 1943, 1944, 1953, 1954, 1955, 1963, 1965, 1972, 1974, 1978, 1979, 1981, 1986, 1991, 1996, 1999, 2000, 2001, 2004, 2007, 2008, 2009, 2011, 2014, 2017, 2019, 2020, 2021)\n",
            "* Taça Guanabara: 23 (1965, 1967, 1970, 1972, 1973, 1978, 1979, 1980, 1981, 1982, 1984, 1988, 1989, 1995, 1996, 1999, 2001, 2004, 2011, 2014, 2018, 2019, 2020)\n",
            "* Taça Rio: 11 (1983, 1985, 1986, 1991, 1993, 1998, 2000, 2009, 2011, 2017, 2019) \n",
            "\n",
            "Digite sua pergunta: por que o campeonato de 87, não esta na lista dos titulos nacionais ?\n",
            "Resposta:  O Campeonato Brasileiro de 1987 não está na lista de títulos nacionais do Flamengo porque foi dividido em dois módulos, chamados Copa União e Módulo Verde. O Flamengo venceu a Copa União, mas o Módulo Verde foi vencido pelo Sport Club do Recife.\n",
            "\n",
            "Na época, houve uma disputa entre a Confederação Brasileira de Futebol (CBF) e a Federação Paulista de Futebol (FPF) sobre o formato do campeonato. A CBF queria um campeonato unificado, enquanto a FPF queria manter o formato de dois módulos.\n",
            "\n",
            "Como não houve um acordo, os clubes paulistas (exceto o Guarani) se retiraram do campeonato organizado pela CBF e disputaram o Módulo Verde.\n",
            "\n",
            "Após o término dos dois campeonatos, a CBF declarou o Sport como campeão brasileiro, enquanto a FPF declarou o Flamengo como campeão da Copa União.\n",
            "\n",
            "No entanto, em 2010, o Superior Tribunal de Justiça Desportiva (STJD) decidiu que o Flamengo deveria ser considerado campeão brasileiro de 1987, pois venceu a Copa União, que era o módulo mais forte do campeonato naquele ano.\n",
            "\n",
            "Apesar disso, a CBF ainda não reconhece oficialmente o Flamengo como campeão brasileiro de 1987. \n",
            "\n",
            "Digite sua pergunta: fim\n"
          ]
        }
      ]
    },
    {
      "cell_type": "code",
      "source": [
        "#Melhorando a visualização\n",
        "#Código disponível em https://ai.google.dev/tutorials/python_quickstart#import_packages\n",
        "import textwrap\n",
        "from IPython.display import display\n",
        "from IPython.display import Markdown\n",
        "\n",
        "def to_markdown(text):\n",
        "  text = text.replace('•', '  *')\n",
        "  return Markdown(textwrap.indent(text, '> ', predicate=lambda _: True))\n",
        "\n",
        "#Imprimindo o histórico\n",
        "for message in chat.history:\n",
        "  display(to_markdown(f'**{message.role}**: {message.parts[0].text}'))\n",
        "  print('-------------------------------------------')"
      ],
      "metadata": {
        "colab": {
          "base_uri": "https://localhost:8080/",
          "height": 922
        },
        "id": "XmD_EI3TKc6d",
        "outputId": "4364ba11-0b2a-4edc-9e91-c59f8296f7cd"
      },
      "execution_count": 22,
      "outputs": [
        {
          "output_type": "display_data",
          "data": {
            "text/plain": [
              "<IPython.core.display.Markdown object>"
            ],
            "text/markdown": "> **user**: Qual é o maior time do Brasil?"
          },
          "metadata": {}
        },
        {
          "output_type": "stream",
          "name": "stdout",
          "text": [
            "-------------------------------------------\n"
          ]
        },
        {
          "output_type": "display_data",
          "data": {
            "text/plain": [
              "<IPython.core.display.Markdown object>"
            ],
            "text/markdown": "> **model**: Flamengo"
          },
          "metadata": {}
        },
        {
          "output_type": "stream",
          "name": "stdout",
          "text": [
            "-------------------------------------------\n"
          ]
        },
        {
          "output_type": "display_data",
          "data": {
            "text/plain": [
              "<IPython.core.display.Markdown object>"
            ],
            "text/markdown": "> **user**: Quais são os seus titulos ?"
          },
          "metadata": {}
        },
        {
          "output_type": "stream",
          "name": "stdout",
          "text": [
            "-------------------------------------------\n"
          ]
        },
        {
          "output_type": "display_data",
          "data": {
            "text/plain": [
              "<IPython.core.display.Markdown object>"
            ],
            "text/markdown": "> **model**: **Títulos Nacionais**\n> \n> * Campeonato Brasileiro Série A: 8 (1980, 1982, 1983, 1992, 2009, 2019, 2020, 2022)\n> * Copa do Brasil: 4 (1990, 2006, 2013, 2022)\n> * Supercopa do Brasil: 2 (2020, 2021)\n> * Copa dos Campeões: 1 (2001)\n> * Torneio Rio-São Paulo: 1 (1961)\n> * Taça Brasil: 1 (1961)\n> * Copa União: 1 (1987)\n> \n> **Títulos Internacionais**\n> \n> * Copa Libertadores da América: 3 (1981, 2019, 2022)\n> * Copa Sul-Americana: 1 (2022)\n> * Recopa Sul-Americana: 1 (2020)\n> * Mundial de Clubes da FIFA: 1 (1981)\n> \n> **Títulos Estaduais**\n> \n> * Campeonato Carioca: 37 (1914, 1915, 1920, 1921, 1925, 1927, 1939, 1942, 1943, 1944, 1953, 1954, 1955, 1963, 1965, 1972, 1974, 1978, 1979, 1981, 1986, 1991, 1996, 1999, 2000, 2001, 2004, 2007, 2008, 2009, 2011, 2014, 2017, 2019, 2020, 2021)\n> * Taça Guanabara: 23 (1965, 1967, 1970, 1972, 1973, 1978, 1979, 1980, 1981, 1982, 1984, 1988, 1989, 1995, 1996, 1999, 2001, 2004, 2011, 2014, 2018, 2019, 2020)\n> * Taça Rio: 11 (1983, 1985, 1986, 1991, 1993, 1998, 2000, 2009, 2011, 2017, 2019)"
          },
          "metadata": {}
        },
        {
          "output_type": "stream",
          "name": "stdout",
          "text": [
            "-------------------------------------------\n"
          ]
        },
        {
          "output_type": "display_data",
          "data": {
            "text/plain": [
              "<IPython.core.display.Markdown object>"
            ],
            "text/markdown": "> **user**: por que o campeonato de 87, não esta na lista dos titulos nacionais ?"
          },
          "metadata": {}
        },
        {
          "output_type": "stream",
          "name": "stdout",
          "text": [
            "-------------------------------------------\n"
          ]
        },
        {
          "output_type": "display_data",
          "data": {
            "text/plain": [
              "<IPython.core.display.Markdown object>"
            ],
            "text/markdown": "> **model**: O Campeonato Brasileiro de 1987 não está na lista de títulos nacionais do Flamengo porque foi dividido em dois módulos, chamados Copa União e Módulo Verde. O Flamengo venceu a Copa União, mas o Módulo Verde foi vencido pelo Sport Club do Recife.\n> \n> Na época, houve uma disputa entre a Confederação Brasileira de Futebol (CBF) e a Federação Paulista de Futebol (FPF) sobre o formato do campeonato. A CBF queria um campeonato unificado, enquanto a FPF queria manter o formato de dois módulos.\n> \n> Como não houve um acordo, os clubes paulistas (exceto o Guarani) se retiraram do campeonato organizado pela CBF e disputaram o Módulo Verde.\n> \n> Após o término dos dois campeonatos, a CBF declarou o Sport como campeão brasileiro, enquanto a FPF declarou o Flamengo como campeão da Copa União.\n> \n> No entanto, em 2010, o Superior Tribunal de Justiça Desportiva (STJD) decidiu que o Flamengo deveria ser considerado campeão brasileiro de 1987, pois venceu a Copa União, que era o módulo mais forte do campeonato naquele ano.\n> \n> Apesar disso, a CBF ainda não reconhece oficialmente o Flamengo como campeão brasileiro de 1987."
          },
          "metadata": {}
        },
        {
          "output_type": "stream",
          "name": "stdout",
          "text": [
            "-------------------------------------------\n"
          ]
        }
      ]
    }
  ]
}